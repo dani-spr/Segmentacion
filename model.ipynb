{
 "cells": [
  {
   "cell_type": "markdown",
   "id": "087e7402",
   "metadata": {},
   "source": [
    "# Segmentación de cerebro"
   ]
  },
  {
   "cell_type": "markdown",
   "id": "6325dc5f",
   "metadata": {},
   "source": [
    "## Imports"
   ]
  },
  {
   "cell_type": "markdown",
   "id": "8be83cfe",
   "metadata": {},
   "source": [
    "### Instalación de librerías"
   ]
  },
  {
   "cell_type": "code",
   "execution_count": 1,
   "id": "8bf3a094",
   "metadata": {},
   "outputs": [
    {
     "name": "stdout",
     "output_type": "stream",
     "text": [
      "Requirement already satisfied: monai in c:\\programdata\\anaconda3\\lib\\site-packages (1.5.0)\n",
      "Requirement already satisfied: nibabel in c:\\programdata\\anaconda3\\lib\\site-packages (5.3.2)\n",
      "Requirement already satisfied: torch in c:\\programdata\\anaconda3\\lib\\site-packages (2.6.0)\n",
      "Requirement already satisfied: torchvision in c:\\programdata\\anaconda3\\lib\\site-packages (0.21.0)\n",
      "Requirement already satisfied: numpy<3.0,>=1.24 in c:\\programdata\\anaconda3\\lib\\site-packages (from monai) (1.26.4)\n",
      "Requirement already satisfied: packaging>=20 in c:\\programdata\\anaconda3\\lib\\site-packages (from nibabel) (24.1)\n",
      "Requirement already satisfied: typing-extensions>=4.6 in c:\\programdata\\anaconda3\\lib\\site-packages (from nibabel) (4.11.0)\n",
      "Requirement already satisfied: filelock in c:\\programdata\\anaconda3\\lib\\site-packages (from torch) (3.13.1)\n",
      "Requirement already satisfied: networkx in c:\\programdata\\anaconda3\\lib\\site-packages (from torch) (3.3)\n",
      "Requirement already satisfied: jinja2 in c:\\programdata\\anaconda3\\lib\\site-packages (from torch) (3.1.4)\n",
      "Requirement already satisfied: fsspec in c:\\programdata\\anaconda3\\lib\\site-packages (from torch) (2024.6.1)\n",
      "Requirement already satisfied: setuptools in c:\\programdata\\anaconda3\\lib\\site-packages (from torch) (75.1.0)\n",
      "Requirement already satisfied: sympy==1.13.1 in c:\\programdata\\anaconda3\\lib\\site-packages (from torch) (1.13.1)\n",
      "Requirement already satisfied: mpmath<1.4,>=1.1.0 in c:\\programdata\\anaconda3\\lib\\site-packages (from sympy==1.13.1->torch) (1.3.0)\n",
      "Requirement already satisfied: pillow!=8.3.*,>=5.3.0 in c:\\programdata\\anaconda3\\lib\\site-packages (from torchvision) (10.4.0)\n",
      "Requirement already satisfied: MarkupSafe>=2.0 in c:\\programdata\\anaconda3\\lib\\site-packages (from jinja2->torch) (2.1.3)\n"
     ]
    }
   ],
   "source": [
    "!pip install monai nibabel torch torchvision"
   ]
  },
  {
   "cell_type": "markdown",
   "id": "518978c9",
   "metadata": {},
   "source": [
    "### Llamado de librerías"
   ]
  },
  {
   "cell_type": "code",
   "execution_count": 5,
   "id": "80836f6a",
   "metadata": {},
   "outputs": [
    {
     "name": "stdout",
     "output_type": "stream",
     "text": [
      "1.5.0\n"
     ]
    }
   ],
   "source": [
    "import monai\n",
    "print(monai.__version__)"
   ]
  },
  {
   "cell_type": "code",
   "execution_count": 7,
   "id": "c9b7a8a9",
   "metadata": {},
   "outputs": [],
   "source": [
    "import os\n",
    "import glob\n",
    "import torch\n",
    "import numpy as np\n",
    "import nibabel as nib\n",
    "from monai.transforms import (\n",
    "    Compose, LoadImaged, EnsureChannelFirstd, ScaleIntensityd,\n",
    "    ToTensord, RandFlipd, RandRotate90d\n",
    ")\n",
    "from monai.data import Dataset, DataLoader\n",
    "from monai.networks.nets import UNet\n",
    "from monai.losses import DiceLoss\n",
    "from monai.metrics import DiceMetric\n",
    "from monai.inferers import sliding_window_inference"
   ]
  },
  {
   "cell_type": "markdown",
   "id": "20c39085",
   "metadata": {},
   "source": [
    "Nota:\n",
    "AddChanneld -> EnsureChannelFirstd\n",
    "Fuente: https://github.com/Project-MONAI/MONAI/discussions/8147\n"
   ]
  },
  {
   "cell_type": "markdown",
   "id": "1da94ae4",
   "metadata": {},
   "source": [
    "## Lectura de los datos"
   ]
  },
  {
   "cell_type": "code",
   "execution_count": 14,
   "id": "252a9480",
   "metadata": {},
   "outputs": [],
   "source": [
    "data_dir_t1 = 'datosparaentrenar/datos-originales'\n",
    "data_dir_seg = 'datosparaentrenar/aparc-aseg'\n",
    "t1_paths = sorted(glob.glob(os.path.join(data_dir_t1, '*.nii.gz')))\n",
    "seg_paths = sorted(glob.glob(os.path.join(data_dir_seg, '*.nii.gz')))\n",
    "\n",
    "# Crear lista de diccionarios para MONAI\n",
    "data_dicts = [{'image': img, 'label': seg} for img, seg in zip(t1_paths, seg_paths)]"
   ]
  },
  {
   "cell_type": "markdown",
   "id": "f8d60306",
   "metadata": {},
   "source": [
    "#### Verifico que se hayan leido bien los datos\n"
   ]
  },
  {
   "cell_type": "code",
   "execution_count": 15,
   "id": "ecebeed3",
   "metadata": {},
   "outputs": [
    {
     "name": "stdout",
     "output_type": "stream",
     "text": [
      "Número de estudios: 10\n",
      "Primer ejemplo:\n",
      "{'image': 'datosparaentrenar/datos-originales\\\\1301_ses-AM_T1w.nii.gz', 'label': 'datosparaentrenar/aparc-aseg\\\\1301-aparcaseg-label.nii.gz'}\n"
     ]
    }
   ],
   "source": [
    "print(f\"Número de estudios: {len(data_dicts)}\")\n",
    "print(\"Primer ejemplo:\")\n",
    "print(data_dicts[0])"
   ]
  },
  {
   "cell_type": "markdown",
   "id": "37623ebb",
   "metadata": {},
   "source": [
    "## Preparación de los dataset"
   ]
  },
  {
   "cell_type": "code",
   "execution_count": 16,
   "id": "8b3c5b4b",
   "metadata": {},
   "outputs": [],
   "source": [
    "train_transforms = Compose([\n",
    "    LoadImaged(keys=['image', 'label']),\n",
    "    EnsureChannelFirstd(keys=['image', 'label']),\n",
    "    ScaleIntensityd(keys=['image']),\n",
    "    RandFlipd(keys=['image', 'label'], prob=0.5, spatial_axis=0),\n",
    "    RandRotate90d(keys=['image', 'label'], prob=0.5, spatial_axes=(0, 1)),\n",
    "    ToTensord(keys=['image', 'label'])\n",
    "])\n",
    "\n",
    "\n",
    "train_ds = Dataset(data=data_dicts, transform=train_transforms)\n",
    "train_loader = DataLoader(train_ds, batch_size=1, shuffle=True)"
   ]
  },
  {
   "cell_type": "markdown",
   "id": "f83cff09",
   "metadata": {},
   "source": [
    "## Configuración"
   ]
  },
  {
   "cell_type": "markdown",
   "id": "882df64b",
   "metadata": {},
   "source": [
    "## Entrenamiento"
   ]
  },
  {
   "cell_type": "markdown",
   "id": "05c441bb",
   "metadata": {},
   "source": [
    "## Test"
   ]
  }
 ],
 "metadata": {
  "kernelspec": {
   "display_name": "base",
   "language": "python",
   "name": "python3"
  },
  "language_info": {
   "codemirror_mode": {
    "name": "ipython",
    "version": 3
   },
   "file_extension": ".py",
   "mimetype": "text/x-python",
   "name": "python",
   "nbconvert_exporter": "python",
   "pygments_lexer": "ipython3",
   "version": "3.12.7"
  }
 },
 "nbformat": 4,
 "nbformat_minor": 5
}
