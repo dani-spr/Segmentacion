{
 "cells": [
  {
   "cell_type": "code",
   "execution_count": 1,
   "id": "3d32a60c",
   "metadata": {},
   "outputs": [
    {
     "name": "stdout",
     "output_type": "stream",
     "text": [
      "Requirement already satisfied: nibabel in c:\\programdata\\anaconda3\\lib\\site-packages (5.3.2)\n",
      "Requirement already satisfied: numpy in c:\\programdata\\anaconda3\\lib\\site-packages (1.26.4)\n",
      "Requirement already satisfied: packaging>=20 in c:\\programdata\\anaconda3\\lib\\site-packages (from nibabel) (24.1)\n",
      "Requirement already satisfied: typing-extensions>=4.6 in c:\\programdata\\anaconda3\\lib\\site-packages (from nibabel) (4.11.0)\n",
      "Note: you may need to restart the kernel to use updated packages.\n"
     ]
    }
   ],
   "source": [
    "pip install nibabel numpy"
   ]
  },
  {
   "cell_type": "code",
   "execution_count": 3,
   "id": "b23d757f",
   "metadata": {},
   "outputs": [
    {
     "name": "stdout",
     "output_type": "stream",
     "text": [
      "✅ Segmentación guardada en: c:\\Users\\Estancia AUIP\\Downloads\\pedrozo\\Segmentacion\\seg-areamotoraprimaria\\segmentacion_filtrada.nii.gz\n"
     ]
    }
   ],
   "source": [
    "import nibabel as nib\n",
    "import numpy as np\n",
    "import os\n",
    "\n",
    "# --- CONFIGURACIÓN DEL USUARIO ---\n",
    "\n",
    "# Ruta del archivo .nii.gz de entrada\n",
    "ruta_entrada = 'datosparaentrenar/aparc-aseg/1301-aparcaseg-label.nii.gz'\n",
    "\n",
    "# Lista de segmentos (valores enteros) que deseas conservar\n",
    "segmentos_conservar = [57, 64, 91,98]  # Ejemplo: izq. paracentral - izq. precentral - der. paracentral - der. precentral\n",
    "\n",
    "# Valor entero que se asignará al nuevo segmento fusionado\n",
    "valor_salida_segmento = 1\n",
    "\n",
    "# Ruta de salida del nuevo archivo\n",
    "ruta_salida = 'seg-areamotoraprimaria/segmentacion_filtrada.nii.gz'\n",
    "\n",
    "\n",
    "# --- PROCESAMIENTO ---\n",
    "\n",
    "# Cargar imagen NIfTI\n",
    "img = nib.load(ruta_entrada)\n",
    "data = img.get_fdata().astype(np.int16)\n",
    "\n",
    "# Crear nueva máscara: solo los segmentos deseados tendrán valor 1\n",
    "nueva_data = np.isin(data, segmentos_conservar).astype(np.uint8) * valor_salida_segmento\n",
    "\n",
    "# Crear nueva imagen con los mismos encabezados y afines\n",
    "nueva_img = nib.Nifti1Image(nueva_data, affine=img.affine, header=img.header)\n",
    "\n",
    "# Guardar la imagen de salida\n",
    "nib.save(nueva_img, ruta_salida)\n",
    "\n",
    "print(f\"✅ Segmentación guardada en: {os.path.abspath(ruta_salida)}\")"
   ]
  },
  {
   "cell_type": "code",
   "execution_count": 4,
   "id": "b2b275a9",
   "metadata": {},
   "outputs": [
    {
     "name": "stdout",
     "output_type": "stream",
     "text": [
      "🔍 Se encontraron 10 archivos para procesar.\n",
      "🧠 Procesando 1301-aparcaseg-label.nii.gz...\n",
      "✅ Guardado: seg-areamotoraprimaria\\1301-aparcaseg-label_filtrado.nii.gz\n",
      "🧠 Procesando 1302-aparcaseg-label.nii.gz...\n",
      "✅ Guardado: seg-areamotoraprimaria\\1302-aparcaseg-label_filtrado.nii.gz\n",
      "🧠 Procesando 1303-aparcaseg-label.nii.gz...\n",
      "✅ Guardado: seg-areamotoraprimaria\\1303-aparcaseg-label_filtrado.nii.gz\n",
      "🧠 Procesando 1304-aparcaseg-label.nii.gz...\n",
      "✅ Guardado: seg-areamotoraprimaria\\1304-aparcaseg-label_filtrado.nii.gz\n",
      "🧠 Procesando 1305-aparcaseg-label.nii.gz...\n",
      "✅ Guardado: seg-areamotoraprimaria\\1305-aparcaseg-label_filtrado.nii.gz\n",
      "🧠 Procesando 1306-aparcaseg-label.nii.gz...\n",
      "✅ Guardado: seg-areamotoraprimaria\\1306-aparcaseg-label_filtrado.nii.gz\n",
      "🧠 Procesando 1307-aparcaseg-label.nii.gz...\n",
      "✅ Guardado: seg-areamotoraprimaria\\1307-aparcaseg-label_filtrado.nii.gz\n",
      "🧠 Procesando 1308-aparcaseg-label.nii.gz...\n",
      "✅ Guardado: seg-areamotoraprimaria\\1308-aparcaseg-label_filtrado.nii.gz\n",
      "🧠 Procesando 1309-aparcaseg-label.nii.gz...\n",
      "✅ Guardado: seg-areamotoraprimaria\\1309-aparcaseg-label_filtrado.nii.gz\n",
      "🧠 Procesando 1310-aparcaseg-label.nii.gz...\n",
      "✅ Guardado: seg-areamotoraprimaria\\1310-aparcaseg-label_filtrado.nii.gz\n",
      "\n",
      "🎉 Procesamiento completado.\n"
     ]
    }
   ],
   "source": [
    "import nibabel as nib\n",
    "import numpy as np\n",
    "import os\n",
    "from glob import glob\n",
    "\n",
    "# --- CONFIGURACIÓN DEL USUARIO ---\n",
    "\n",
    "# Carpeta con archivos .nii.gz originales\n",
    "carpeta_entrada = 'datosparaentrenar/aparc-aseg'\n",
    "\n",
    "# Carpeta de salida donde se guardarán los archivos procesados\n",
    "carpeta_salida = 'seg-areamotoraprimaria'\n",
    "os.makedirs(carpeta_salida, exist_ok=True)\n",
    "\n",
    "# Lista de segmentos que se quieren conservar\n",
    "segmentos_conservar = [2, 41, 16]  # Ejemplo\n",
    "\n",
    "# Valor que tendrán todos los segmentos seleccionados en la salida\n",
    "valor_salida_segmento = 1\n",
    "\n",
    "\n",
    "# --- PROCESAMIENTO ---\n",
    "\n",
    "# Obtener todos los archivos .nii.gz en la carpeta de entrada\n",
    "archivos = sorted(glob(os.path.join(carpeta_entrada, '*.nii.gz')))\n",
    "\n",
    "print(f\"🔍 Se encontraron {len(archivos)} archivos para procesar.\")\n",
    "\n",
    "for archivo in archivos:\n",
    "    nombre_archivo = os.path.basename(archivo)\n",
    "    nombre_salida = os.path.splitext(os.path.splitext(nombre_archivo)[0])[0] + '_filtrado.nii.gz'\n",
    "    ruta_salida = os.path.join(carpeta_salida, nombre_salida)\n",
    "\n",
    "    print(f\"🧠 Procesando {nombre_archivo}...\")\n",
    "\n",
    "    # Cargar imagen\n",
    "    img = nib.load(archivo)\n",
    "    data = img.get_fdata().astype(np.int16)\n",
    "\n",
    "    # Crear máscara binaria para los segmentos deseados\n",
    "    nueva_data = np.isin(data, segmentos_conservar).astype(np.uint8) * valor_salida_segmento\n",
    "\n",
    "    # Crear nueva imagen y guardar\n",
    "    nueva_img = nib.Nifti1Image(nueva_data, affine=img.affine, header=img.header)\n",
    "    nib.save(nueva_img, ruta_salida)\n",
    "\n",
    "    print(f\"✅ Guardado: {ruta_salida}\")\n",
    "\n",
    "print(\"\\n🎉 Procesamiento completado.\")"
   ]
  }
 ],
 "metadata": {
  "kernelspec": {
   "display_name": "base",
   "language": "python",
   "name": "python3"
  },
  "language_info": {
   "codemirror_mode": {
    "name": "ipython",
    "version": 3
   },
   "file_extension": ".py",
   "mimetype": "text/x-python",
   "name": "python",
   "nbconvert_exporter": "python",
   "pygments_lexer": "ipython3",
   "version": "3.12.7"
  }
 },
 "nbformat": 4,
 "nbformat_minor": 5
}
